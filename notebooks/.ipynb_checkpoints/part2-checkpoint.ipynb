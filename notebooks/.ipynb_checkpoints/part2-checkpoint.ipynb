{
 "cells": [
  {
   "cell_type": "markdown",
   "id": "96dbe2ad-71aa-4270-afc7-c0068509cc1d",
   "metadata": {},
   "source": [
    "### imports"
   ]
  },
  {
   "cell_type": "code",
   "execution_count": 28,
   "id": "a1f7a2c4-a261-4061-988a-6d6422b498bb",
   "metadata": {},
   "outputs": [],
   "source": [
    "import requests\n",
    "from bs4 import BeautifulSoup\n",
    "import pandas as pd \n",
    "import numpy as np\n",
    "import matplotlib.pyplot as plt\n",
    "import re\n",
    "from datetime import datetime\n",
    "import urllib"
   ]
  },
  {
   "cell_type": "code",
   "execution_count": 30,
   "id": "a573b63e-018f-4ee3-9736-7baf766a2c74",
   "metadata": {},
   "outputs": [],
   "source": [
    "df = pd.read_csv('C:/Users/LENOVO/Downloads/dataset.csv')"
   ]
  },
  {
   "cell_type": "markdown",
   "id": "0d85eb67-0d86-4300-93e3-88990041513e",
   "metadata": {},
   "source": [
    "### בדיקת סוג הנתונים בכל עמודה"
   ]
  },
  {
   "cell_type": "code",
   "execution_count": 116,
   "id": "18f0d196-f1de-40f7-b31d-5ac3427bc6d8",
   "metadata": {},
   "outputs": [
    {
     "name": "stdout",
     "output_type": "stream",
     "text": [
      "manufactor          object\n",
      "Year                 int64\n",
      "model               object\n",
      "Hand                 int64\n",
      "Gear                object\n",
      "capacity_Engine     object\n",
      "Engine_type         object\n",
      "Prev_ownership      object\n",
      "Curr_ownership      object\n",
      "Area                object\n",
      "City                object\n",
      "Price              float64\n",
      "Pic_num            float64\n",
      "Cre_date            object\n",
      "Repub_date          object\n",
      "Description         object\n",
      "Color               object\n",
      "Km                  object\n",
      "Test                object\n",
      "Supply_score       float64\n",
      "dtype: object\n"
     ]
    }
   ],
   "source": [
    "print(df.dtypes)"
   ]
  },
  {
   "cell_type": "markdown",
   "id": "90f706af-74c8-4950-bf1a-b29d705f48e0",
   "metadata": {},
   "source": [
    "### פונקציה לספירת ערכים חסרים בכל עמודה"
   ]
  },
  {
   "cell_type": "code",
   "execution_count": 34,
   "id": "4107f724-6394-4064-8cae-f91a7c7056f1",
   "metadata": {},
   "outputs": [],
   "source": [
    "def count_missing_values(df):\n",
    "\n",
    "    return df.isnull().sum()"
   ]
  },
  {
   "cell_type": "code",
   "execution_count": 38,
   "id": "df5fa1ab-b6ee-43f1-abfe-56458ff57f0b",
   "metadata": {},
   "outputs": [
    {
     "data": {
      "text/plain": [
       "manufactor            0\n",
       "Year                  0\n",
       "model                 0\n",
       "Hand                  0\n",
       "Gear                  1\n",
       "capacity_Engine      26\n",
       "Engine_type           5\n",
       "Prev_ownership      729\n",
       "Curr_ownership      728\n",
       "Area                149\n",
       "City                  0\n",
       "Price                 0\n",
       "Pic_num              24\n",
       "Cre_date              0\n",
       "Repub_date            0\n",
       "Description           0\n",
       "Color               770\n",
       "Km                   89\n",
       "Test               1368\n",
       "Supply_score       1061\n",
       "dtype: int64"
      ]
     },
     "execution_count": 38,
     "metadata": {},
     "output_type": "execute_result"
    }
   ],
   "source": [
    "missing_values = count_missing_values(df)\n",
    "missing_values"
   ]
  },
  {
   "cell_type": "markdown",
   "id": "5e2f27ac-65d0-4ffa-8a24-83abd9a6257f",
   "metadata": {},
   "source": [
    "#### בדיקה האם כל הערכים בעמודה הם מאותו סוג (type)"
   ]
  },
  {
   "cell_type": "code",
   "execution_count": 55,
   "id": "c0dd84a1-8d42-4780-a156-20dbc920cadb",
   "metadata": {},
   "outputs": [],
   "source": [
    "def col_is_str(list, data):\n",
    "\n",
    "    for col in list:\n",
    "        all_strings = data[col].apply(lambda x: isinstance(x, str)).all()\n",
    "        if all_strings:\n",
    "            print(f\"{col}: כל הערכים הם מסוג סטרינג\")\n",
    "        else:\n",
    "            print(f\"{col}: לא כל הערכים הם מסוג סטרינג\")\n",
    "\n",
    "\n",
    "def col_is_int(list, data):\n",
    "\n",
    "    for col in list:\n",
    "        all_strings = data[col].apply(lambda x: isinstance(x, int)).all()\n",
    "        if all_strings:\n",
    "            print(f\"{col}: כל הערכים הם מסוג אינטגר\")\n",
    "        else:\n",
    "            print(f\"{col}: לא כל הערכים הם מסוג אינטגר\")"
   ]
  },
  {
   "cell_type": "markdown",
   "id": "81d1507e-b7fc-4991-b123-c2c60d93bb3e",
   "metadata": {},
   "source": [
    "### מעבר על העמודות כדי להבין אילו דברים צריך לתקן ולשפר"
   ]
  },
  {
   "cell_type": "markdown",
   "id": "cbdaa1fa-66ee-4acf-9fc2-a3c1f3abafc9",
   "metadata": {},
   "source": [
    "#### עמודת יצרן"
   ]
  },
  {
   "cell_type": "code",
   "execution_count": 62,
   "id": "3d75aecc-3775-4ac8-942f-e52291b7b31d",
   "metadata": {},
   "outputs": [
    {
     "data": {
      "text/plain": [
       "array(['יונדאי', 'ניסאן', 'סוזוקי', 'טויוטה', 'קיה', 'אאודי', 'סובארו',\n",
       "       'מיצובישי', 'מרצדס', 'ב.מ.וו', 'אופל', 'הונדה', 'פולקסווגן',\n",
       "       'שברולט', 'מאזדה', 'וולוו', 'סקודה', 'פורד', 'Lexsus', 'קרייזלר',\n",
       "       'סיטרואן', \"פיג'ו\", 'רנו', 'לקסוס', 'דייהטסו', 'מיני',\n",
       "       'אלפא רומיאו'], dtype=object)"
      ]
     },
     "execution_count": 62,
     "metadata": {},
     "output_type": "execute_result"
    }
   ],
   "source": [
    "df['manufactor'].unique()"
   ]
  },
  {
   "cell_type": "markdown",
   "id": "224ef40a-a947-4858-b4be-bd649246af9e",
   "metadata": {},
   "source": [
    "#### אנו רואים שקיימים שני יצרינים שהם בעצם אותו הדבר.\n",
    "#### מדובר ביצרן לקסוס"
   ]
  },
  {
   "cell_type": "code",
   "execution_count": 65,
   "id": "238a9324-b51c-4a74-924d-2a78c549476d",
   "metadata": {},
   "outputs": [],
   "source": [
    "df['manufactor'] = df['manufactor'].replace('Lexsus', 'לקסוס')\n"
   ]
  },
  {
   "cell_type": "markdown",
   "id": "6bb3c7ab-6029-4755-8f13-9286859d897f",
   "metadata": {},
   "source": [
    "#### עמודת שנה"
   ]
  },
  {
   "cell_type": "code",
   "execution_count": 48,
   "id": "37987a32-aed8-43be-9d37-2828c689554c",
   "metadata": {},
   "outputs": [
    {
     "data": {
      "text/plain": [
       "array([2015, 2018, 2010, 2016, 2012, 2009, 2003, 2017, 2013, 2008, 2014,\n",
       "       2007, 2011, 2020, 2023, 1988, 2021, 2019, 1990, 2004, 1999, 2005,\n",
       "       2022, 2006, 2002, 1983, 1998, 2000, 1995], dtype=int64)"
      ]
     },
     "execution_count": 48,
     "metadata": {},
     "output_type": "execute_result"
    }
   ],
   "source": [
    "df['Year'].unique()"
   ]
  },
  {
   "cell_type": "markdown",
   "id": "5e28c676-188a-48d7-ba75-5a3e8b4b55e3",
   "metadata": {},
   "source": [
    "#### עמודת model"
   ]
  },
  {
   "cell_type": "code",
   "execution_count": 68,
   "id": "7536bbb1-b9e0-4689-826b-0f840a1bc9ef",
   "metadata": {},
   "outputs": [
    {
     "data": {
      "text/plain": [
       "array(['i35', 'ניסאן מיקרה', 'סוזוקי סוויפט', 'אוריס', 'פיקנטו',\n",
       "       'אאודי A1', 'אימפרזה', 'ASX', '220', '525', 'מוקה', 'פורטה', ' Q3',\n",
       "       'סיוויק סדאן', 'סוזוקי SX4 קרוסאובר', 'קורולה', 'גולף', 'פאסאט',\n",
       "       'ספארק', 'מאזדה 3', 'ניסאן נוט', 'סול', 'V40 CC', 'לנסר ספורטבק',\n",
       "       'i10', 'אאודי A3', ' A1', 'סקודה פאביה\\r\\n (2012)', 'אוקטביה',\n",
       "       'CIVIC', 'איוניק', 'סונטה', 'i30', 'C-HR', 'מאליבו', 'ריו',\n",
       "       'פוקוס', 'סקודה אוקטביה (2014)', 'X1', 'אוואו', 'סיוויק',\n",
       "       'סקודה ראפיד (2015)', ' E-Class', ' S7', 'אפלנדר', 'SVX',\n",
       "       'סוזוקי איגניס', 'ספייס סטאר', 'לקסוס IS300h', \"גראנד, וויאג'ר\",\n",
       "       'C4', '2008', 'סטוניק', 'פולו', 'S60', 'אאודי RS5', \"ג'אז הייבריד\",\n",
       "       'סוזוקי SX4', 'ג`טה', ' A4', 'אס-מקס', 'נירו', 'אינסייט',\n",
       "       'רנו קליאו', '3', 'אאודי All Road', 'פאסאט CC', ' S-Class',\n",
       "       'CADDY COMBI', 'אסטרה', 'XV', 'סיוויק סדאן החדשה', 'אאודי A5',\n",
       "       '316', 'C3', 'סדרה 5', 'אקורד', 'i25', 'C1', 'יאריס',\n",
       "       'לקסוס IS250', 'V40', 'סדרה 1', 'סקודה אוקטביה (2013)', 'סראטו',\n",
       "       'מאזדה 5', 'סוזוקי סוויפט החדשה', 'מאזדה 2', '5',\n",
       "       'רנו קליאו דור 4', 'קורבט', \"אטראז'\", 'i20', ' A3', '200', 'B4',\n",
       "       \"ג'טה\", '308', \"סיוויק האצ'בק החדשה\",\n",
       "       'סקודה אוקטביה ספייס\\r\\n (2015)', 'מוקה X',\n",
       "       'סקודה פאביה\\r\\n (2016)', 'רנו גרנד סניק',\n",
       "       'סקודה פאביה\\r\\n (2013)', 'זאפירה', 'אינסיגניה', '6',\n",
       "       'לקסוס CT200H', 'אורלנדו', 'ניסאן אלתימה', 'סוזוקי אלטו',\n",
       "       'סוזוקי קרוסאובר', '108', 'JAZZ', 'DS3', 'פריוס', 'שירוקו',\n",
       "       \"ניסאן ג'וק JUKE\", 'XCEED', 'רנו מגאן אסטייט / גראנד טור',\n",
       "       'סקודה סופרב (2013)', 'סקודה סופרב (2016)', 'ספייס',\n",
       "       'סקודה אוקטביה (2015)', 'רנו פלואנס', 'ACCORD', ' SLK',\n",
       "       \"סיוויק האצ'בק\", 'סקודה פאביה\\r\\n (2015)', 'אלנטרה', 'אאודי S7',\n",
       "       'סוזוקי בלנו', 'טראקס', 'FR-V', 'ניסאן סנטרה', 'סיריון', \"ג'אז\",\n",
       "       'גרנדיס', 'סקודה אוקטביה (2016)', 'סקודה סופרב (2015)', 'פרייד',\n",
       "       'מאזדה 6', 'סלבריטי', 'טריוס', 'רנו פלואנס חשמלי', 'פאביה ספייס',\n",
       "       '120i', 'קאונטרימן', 'אלפא רומיאו 159', 'אלפא רומיאו מיטו / MITO',\n",
       "       'אקווינוקס', '208', ' A6', 'סקודה סופרב (2014)', 'חיפושית',\n",
       "       'ראפיד', 'B3', 'ורסו', 'קורסה', 'ייטי', 'אאודי A6', 'אדם',\n",
       "       \"אלפא רומיאו ג'ולייטה\", 'ג`אז', 'סוזוקי סדן', 'אאוטלנדר', 'מוסטנג',\n",
       "       'לקסוס GS300', '508', 'לקסוס RC', 'סקודה סופרב (2011)', 'i30CW',\n",
       "       'סקודה אוקטביה ספייס\\r\\n (2016)', 'ולוסטר', 'אאודי A4',\n",
       "       'סקודה אוקטביה ספייס (2015)', 'קופר', ' CLK', ' A5',\n",
       "       'סקודה פאביה (2012)', 'נירו EV', 'האצ`בק', ' RS5', 'קרוז',\n",
       "       'סוזוקי ספלאש', 'גולף פלוס', 'סופרב', 'לקסוס IS300H',\n",
       "       'ראפיד ספייסבק', 'אוקטביה קומבי', 'נירו PHEV', 'S80', 'לאונה',\n",
       "       'אקליפס', 'סוניק', '307CC', 'אאוטבק', 'סקודה אוקטביה (2010)',\n",
       "       'סדרה 3', 'דייהטסו טריוס', 'אודסיי', 'סקודה ייטי (2012)', 'קרניבל',\n",
       "       'סקודה אוקטביה RS (2014)', 'סוזוקי סלריו', 'AX', 'פיאסטה',\n",
       "       'גראנד, וויאג`ר', ' V- CLASS', 'לג`נד', 'C30', 'I-MIEV',\n",
       "       'סקודה ראפיד (2014)', 'סקודה סופרב (2012)',\n",
       "       'סקודה פאביה\\r\\n (2014)', 'סקודה רומסטר\\r\\n (2014)', 'ONE',\n",
       "       'אאודי Q3', 'אלפא רומיאו מיטו', 'רנו קפצ`ור', 'שרמנט', 'גלאקסי',\n",
       "       'ניסאן פרימרה', 'וויאג`ר', 'M1', 'גולף GTI', 'GT3000', ' R8',\n",
       "       'סקודה אוקטביה (2011)', 'סיוויק סטיישן', '300C', 'אימפלה', 'ספיה',\n",
       "       'קורסה החדשה', 'סקודה רומסטר\\r\\n (2013)', 'סקודה ראפיד (2013)',\n",
       "       'סקודה פאביה ספייס (2016)', ' C-Class', 'INSIGHT', \"טרג'ט\", 'CX',\n",
       "       'קאמרי', '5008', 'אונסיס', ' E-Class קופה / קבריולט', 'סיד', '530',\n",
       "       'i40', 'רנו קליאו אסטייט', 'פאביה', '301', 'C5', '320',\n",
       "       'סקודה רומסטר (2012)', 'קרוז החדשה', 'סקודה רומסטר (2015)',\n",
       "       ' C-Class Taxi', '318', '2', ' C-CLASS קופה', 'מריבה',\n",
       "       'חיפושית חדשה', 'קופה', 'דייהטסו סיריון', 'סיוויק הייבריד',\n",
       "       'קורסיקה', 'קונקט', ' C-Class קופה', 'RCZ', 'ניסאן קווסט',\n",
       "       'סקודה אוקטביה (2012)', 'אאודי S5', 'אאודי S3', 'קאנטרימן',\n",
       "       'רנו 25', 'סיטיגו / Citygo', ' E- CLASS',\n",
       "       'סקודה רומסטר\\r\\n (2015)', 'לנסר', '325', 'ניסאן מקסימה', 'one',\n",
       "       'טוראן', 'ניסאן אלמרה', 'אוונסיס', 'סקודה פאביה\\r\\n (2011)', '523',\n",
       "       'לנסר הדור החדש', '106'], dtype=object)"
      ]
     },
     "execution_count": 68,
     "metadata": {},
     "output_type": "execute_result"
    }
   ],
   "source": [
    "df['model'].unique()"
   ]
  },
  {
   "cell_type": "markdown",
   "id": "4f421743-7b2b-4c5a-bcbf-3a247c37e5d4",
   "metadata": {},
   "source": [
    "#### ראינו שיש שורות שבהם סוג המודל כלל גם את סוג היצרן וגם את השנה של הרכב ולכן בנינו פונקציה שתסדר את העמודה"
   ]
  },
  {
   "cell_type": "code",
   "execution_count": 71,
   "id": "bd5a54be-0ae9-4ede-acac-d1c3c39d7b2b",
   "metadata": {},
   "outputs": [],
   "source": [
    "def clean_model_name(manufactor, model_name):\n",
    "    # הסרת שנה בסוגריים\n",
    "    model_name = re.sub(r'\\(\\d{4}\\)', '', model_name)\n",
    "    # הסרת שם היצרן אם מופיע בשם הדגם\n",
    "    model_name = re.sub(manufactor, '', model_name, flags=re.IGNORECASE)\n",
    "    # הסרת רווחים מיותרים מהתחלה וסוף המחרוזת\n",
    "    model_name = model_name.strip()\n",
    "    return model_name"
   ]
  },
  {
   "cell_type": "code",
   "execution_count": 73,
   "id": "f55b9d1c-ce5d-47eb-a0f0-bd177bf9b621",
   "metadata": {},
   "outputs": [
    {
     "name": "stdout",
     "output_type": "stream",
     "text": [
      "['106' '108' '120i' '159' '2' '200' '2008' '208' '220' '25' '3' '300C'\n",
      " '301' '307CC' '308' '316' '318' '320' '325' '5' '5008' '508' '523' '525'\n",
      " '530' '6' 'A1' 'A3' 'A4' 'A5' 'A6' 'ACCORD' 'ASX' 'AX' 'All Road' 'B3'\n",
      " 'B4' 'C-CLASS קופה' 'C-Class' 'C-Class Taxi' 'C-Class קופה' 'C-HR' 'C1'\n",
      " 'C3' 'C30' 'C4' 'C5' 'CADDY COMBI' 'CIVIC' 'CLK' 'CT200H' 'CX' 'DS3'\n",
      " 'E- CLASS' 'E-Class' 'E-Class קופה / קבריולט' 'FR-V' 'GS300' 'GT3000'\n",
      " 'I-MIEV' 'INSIGHT' 'IS250' 'IS300H' 'IS300h' 'JAZZ' 'M1' 'ONE' 'Q3' 'R8'\n",
      " 'RC' 'RCZ' 'RS5' 'S-Class' 'S3' 'S5' 'S60' 'S7' 'S80' 'SLK' 'SVX' 'SX4'\n",
      " 'SX4 קרוסאובר' 'V- CLASS' 'V40' 'V40 CC' 'X1' 'XCEED' 'XV' 'i10' 'i20'\n",
      " 'i25' 'i30' 'i30CW' 'i35' 'i40' 'one' 'אאוטבק' 'אאוטלנדר' 'אדם' 'אודסיי'\n",
      " 'אוואו' 'אוונסיס' 'אונסיס' 'אוקטביה' 'אוקטביה RS' 'אוקטביה ספייס'\n",
      " 'אוקטביה קומבי' 'אוריס' 'אורלנדו' \"אטראז'\" 'איגניס' 'איוניק' 'אימפלה'\n",
      " 'אימפרזה' 'אינסיגניה' 'אינסייט' 'אלטו' 'אלמרה' 'אלנטרה' 'אלתימה' 'אס-מקס'\n",
      " 'אסטרה' 'אפלנדר' 'אקווינוקס' 'אקורד' 'אקליפס' 'בלנו' \"ג'אז\"\n",
      " \"ג'אז הייבריד\" \"ג'ולייטה\" \"ג'וק JUKE\" \"ג'טה\" 'ג`אז' 'ג`טה' 'גולף'\n",
      " 'גולף GTI' 'גולף פלוס' 'גלאקסי' \"גראנד, וויאג'ר\" 'גראנד, וויאג`ר'\n",
      " 'גרנד סניק' 'גרנדיס' 'האצ`בק' 'וויאג`ר' 'ולוסטר' 'ורסו' 'זאפירה'\n",
      " 'חיפושית' 'חיפושית חדשה' 'טוראן' 'טראקס' \"טרג'ט\" 'טריוס' 'יאריס' 'ייטי'\n",
      " 'לאונה' 'לג`נד' 'לנסר' 'לנסר הדור החדש' 'לנסר ספורטבק' 'מאליבו'\n",
      " 'מגאן אסטייט / גראנד טור' 'מוסטנג' 'מוקה' 'מוקה X' 'מיטו' 'מיטו / MITO'\n",
      " 'מיקרה' 'מקסימה' 'מריבה' 'נוט' 'נירו' 'נירו EV' 'נירו PHEV' 'סדן'\n",
      " 'סדרה 1' 'סדרה 3' 'סדרה 5' 'סוויפט' 'סוויפט החדשה' 'סול' 'סונטה' 'סוניק'\n",
      " 'סופרב' 'סטוניק' 'סיד' 'סיוויק' \"סיוויק האצ'בק\" \"סיוויק האצ'בק החדשה\"\n",
      " 'סיוויק הייבריד' 'סיוויק סדאן' 'סיוויק סדאן החדשה' 'סיוויק סטיישן'\n",
      " 'סיטיגו / Citygo' 'סיריון' 'סלבריטי' 'סלריו' 'סנטרה' 'ספארק' 'ספיה'\n",
      " 'ספייס' 'ספייס סטאר' 'ספלאש' 'סראטו' 'פאביה' 'פאביה ספייס' 'פאסאט'\n",
      " 'פאסאט CC' 'פולו' 'פוקוס' 'פורטה' 'פיאסטה' 'פיקנטו' 'פלואנס'\n",
      " 'פלואנס חשמלי' 'פריוס' 'פרייד' 'פרימרה' 'קאונטרימן' 'קאמרי' 'קאנטרימן'\n",
      " 'קווסט' 'קונקט' 'קופה' 'קופר' 'קורבט' 'קורולה' 'קורסה' 'קורסה החדשה'\n",
      " 'קורסיקה' 'קליאו' 'קליאו אסטייט' 'קליאו דור 4' 'קפצ`ור' 'קרוז'\n",
      " 'קרוז החדשה' 'קרוסאובר' 'קרניבל' 'ראפיד' 'ראפיד ספייסבק' 'רומסטר' 'ריו'\n",
      " 'שירוקו' 'שרמנט']\n"
     ]
    }
   ],
   "source": [
    "# ניקוי שמות המודלים\n",
    "df['model'] = df.apply(lambda row: clean_model_name(row['manufactor'], row['model']), axis=1)\n",
    "\n",
    "# הצגת שמות המודלים הנקיים והייחודיים\n",
    "unique_models_clean = np.unique(df['model'].values)\n",
    "print(unique_models_clean)"
   ]
  },
  {
   "cell_type": "markdown",
   "id": "85ffb815-745e-4430-a5a8-7ecf6d59b656",
   "metadata": {},
   "source": [
    "#### לאחר מכן ראינו שישנם כפילויות של שמות דגמים בנאגלית ובעברית וטיפלנו בהם ידנית"
   ]
  },
  {
   "cell_type": "code",
   "execution_count": 80,
   "id": "e744c9fa-0bc3-4b8e-8fc1-dd545813b2b6",
   "metadata": {},
   "outputs": [
    {
     "name": "stdout",
     "output_type": "stream",
     "text": [
      "['106' '108' '120i' '159' '2' '200' '2008' '208' '220' '25' '3' '300C'\n",
      " '301' '307CC' '308' '316' '318' '320' '325' '5' '5008' '508' '523' '525'\n",
      " '530' '6' 'A1' 'A3' 'A4' 'A5' 'A6' 'ASX' 'AX' 'All Road' 'B3' 'B4'\n",
      " 'C-CLASS קופה' 'C-Class' 'C-Class Taxi' 'C-Class קופה' 'C-HR' 'C1' 'C3'\n",
      " 'C30' 'C4' 'C5' 'CADDY COMBI' 'CLK' 'CT200H' 'CX' 'DS3' 'E- CLASS'\n",
      " 'E-Class' 'E-Class קופה / קבריולט' 'FR-V' 'GS300' 'GT3000' 'I-MIEV'\n",
      " 'INSIGHT' 'IS250' 'IS300H' 'IS300h' 'JAZZ' 'M1' 'ONE' 'Q3' 'R8' 'RC'\n",
      " 'RCZ' 'RS5' 'S-Class' 'S3' 'S5' 'S60' 'S7' 'S80' 'SLK' 'SVX' 'SX4'\n",
      " 'SX4 קרוסאובר' 'V- CLASS' 'V40' 'V40 CC' 'X1' 'XCEED' 'XV' 'i10' 'i20'\n",
      " 'i25' 'i30' 'i30CW' 'i35' 'i40' 'one' 'אאוטבק' 'אאוטלנדר' 'אדם' 'אודסיי'\n",
      " 'אוואו' 'אוונסיס' 'אונסיס' 'אוקטביה' 'אוקטביה RS' 'אוקטביה ספייס'\n",
      " 'אוקטביה קומבי' 'אוריס' 'אורלנדו' \"אטראז'\" 'איגניס' 'איוניק' 'אימפלה'\n",
      " 'אימפרזה' 'אינסיגניה' 'אינסייט' 'אלטו' 'אלמרה' 'אלנטרה' 'אלתימה' 'אס-מקס'\n",
      " 'אסטרה' 'אפלנדר' 'אקווינוקס' 'אקורד' 'אקליפס' 'בלנו' \"ג'אז הייבריד\"\n",
      " \"ג'ולייטה\" \"ג'וק\" \"ג'טה\" 'ג`אז' 'גולף' 'גולף GTI' 'גולף פלוס' 'גלאקסי'\n",
      " \"גראנד, וויאג'ר\" 'גראנד, וויאג`ר' 'גרנד סניק' 'גרנדיס' 'האצ`בק' 'וויאג`ר'\n",
      " 'ולוסטר' 'ורסו' 'זאפירה' 'חיפושית' 'חיפושית חדשה' 'טוראן' 'טראקס' \"טרג'ט\"\n",
      " 'טריוס' 'יאריס' 'ייטי' 'לאונה' 'לג`נד' 'לנסר' 'לנסר הדור החדש'\n",
      " 'לנסר ספורטבק' 'מאליבו' 'מגאן אסטייט / גראנד טור' 'מוסטנג' 'מוקה'\n",
      " 'מוקה X' 'מיטו' 'מיקרה' 'מקסימה' 'מריבה' 'נוט' 'נירו' 'נירו EV'\n",
      " 'נירו PHEV' 'סדן' 'סדרה 1' 'סדרה 3' 'סדרה 5' 'סוויפט' 'סוויפט החדשה'\n",
      " 'סול' 'סונטה' 'סוניק' 'סופרב' 'סטוניק' 'סיד' 'סיוויק' \"סיוויק האצ'בק\"\n",
      " \"סיוויק האצ'בק החדשה\" 'סיוויק הייבריד' 'סיוויק סדאן' 'סיוויק סדאן החדשה'\n",
      " 'סיוויק סטיישן' 'סיטיגו / Citygo' 'סיריון' 'סלבריטי' 'סלריו' 'סנטרה'\n",
      " 'ספארק' 'ספיה' 'ספייס' 'ספייס סטאר' 'ספלאש' 'סראטו' 'פאביה' 'פאביה ספייס'\n",
      " 'פאסאט' 'פאסאט CC' 'פולו' 'פוקוס' 'פורטה' 'פיאסטה' 'פיקנטו' 'פלואנס'\n",
      " 'פלואנס חשמלי' 'פריוס' 'פרייד' 'פרימרה' 'קאונטרימן' 'קאמרי' 'קאנטרימן'\n",
      " 'קווסט' 'קונקט' 'קופה' 'קופר' 'קורבט' 'קורולה' 'קורסה' 'קורסה החדשה'\n",
      " 'קורסיקה' 'קליאו' 'קליאו אסטייט' 'קליאו דור 4' 'קפצ`ור' 'קרוז'\n",
      " 'קרוז החדשה' 'קרוסאובר' 'קרניבל' 'ראפיד' 'ראפיד ספייסבק' 'רומסטר' 'ריו'\n",
      " 'שירוקו' 'שרמנט']\n"
     ]
    }
   ],
   "source": [
    "df['model'] = df['model'].replace('CIVIC', 'סיוויק')\n",
    "df['model'] = df['model'].replace('ACCORD', 'אקורד')\n",
    "df['model'] = df['model'].replace(\"ג`טה\", \"ג'טה\")\n",
    "df['model'] = df['model'].replace(\"ג'אז\", \"ג`אז\")\n",
    "df['model'] = df['model'].replace('מיטו / MITO','מיטו')\n",
    "df['model'] = df['model'].replace(\"ג'וק JUKE\",\"ג'וק\")\n",
    "\n",
    "unique_models_clean = np.unique(df['model'].values)\n",
    "print(unique_models_clean)"
   ]
  },
  {
   "cell_type": "markdown",
   "id": "4d677c8b-8832-43ff-ab68-0bcfc2179a80",
   "metadata": {},
   "source": [
    "### עמודות נפח מנוע, סוג מנוע, גיר"
   ]
  },
  {
   "cell_type": "markdown",
   "id": "a5ca0201-0af7-4aa9-8341-33870992cfa7",
   "metadata": {},
   "source": [
    "#### ראינו שקיימים ערכים חסרים בעמודות אלו ורצינו למלא אותם באמצעות מציאת רכבים זהים בדאטה והשלמה של נתוני הרכבים על פי הרכבים הזהים"
   ]
  },
  {
   "cell_type": "code",
   "execution_count": 96,
   "id": "f8221e29-415b-4380-9eaf-27d3b380d561",
   "metadata": {},
   "outputs": [
    {
     "name": "stdout",
     "output_type": "stream",
     "text": [
      "['אוטומטית' 'טיפטרוניק' 'ידנית' 'רובוטית' 'אוטומט' 'לא מוגדר']\n",
      "['בנזין' 'דיזל' 'גז' 'היברידי' 'היבריד' 'טורבו דיזל' nan 'חשמלי']\n",
      "['1600' '1200' '1450' '1248' '1400' '2400' '2000' '2200' '2500' '1500'\n",
      " '1800' '1595' '1,400' '1100' '1000' '4200' '1250' '1,197' '1197' '1,500'\n",
      " '1396' '1,200' '1998' '2,400' '2800' '6500' '3600' '1199' '4500' '1300'\n",
      " '1,399' '1,100' '1568' '3000' '998' '1968' '1586' '1,800' '1290' '5500'\n",
      " '80' '1994' '2,000' '12,000' '1598' '2143' '1364' '900' '1240' '1,395'\n",
      " '1590' '1798' '1490' '1242' '1997' '1498' '3500' '1461' '1999' nan '1591'\n",
      " '6,600' '3200' '1,470' '988' '1,364' '4000' '1,600' '1374' '1470' '1497'\n",
      " '1318' '1495' '1187' '800' '1329' '1395' '999' '1376' '1198' '1339'\n",
      " '3471' '1399' '2700' '1193' '3300' '2900' '90' '125' '1,398' '1280'\n",
      " '1,390' '3800' '15000' '1459' '1368' '3,600' '13' '1,300' '1799' '1984'\n",
      " '14000' '1390' '1496' '1900' '1,796' '110' '2100' '105' '132' '1350'\n",
      " '3990' '3510' '2998' '1468' '2,600' '1298' '1284' '2359' '150' '1580']\n"
     ]
    }
   ],
   "source": [
    "print(df['Gear'].unique())\n",
    "print(df['Engine_type'].unique())\n",
    "print(df['capacity_Engine'].unique())"
   ]
  },
  {
   "cell_type": "code",
   "execution_count": 121,
   "id": "e47c8537-b0fe-4c02-9f3f-2efe8c6d579d",
   "metadata": {},
   "outputs": [],
   "source": [
    "df['Gear'] = df['Gear'].replace('לא מוגדר', np.nan)\n",
    "df['Gear'] = df['Gear'].replace('אוטומט', 'אוטומטית')\n",
    "df['Engine_type'] = df['Engine_type'].replace('היבריד', 'היברידי')"
   ]
  },
  {
   "cell_type": "markdown",
   "id": "c096bb7b-3059-4194-9530-80cea54d66c8",
   "metadata": {},
   "source": [
    "### טיפול בטעויות הקלדה של capacity_Engine"
   ]
  },
  {
   "cell_type": "code",
   "execution_count": 105,
   "id": "7714393c-a58b-4071-a94f-dddf80536408",
   "metadata": {},
   "outputs": [
    {
     "data": {
      "text/html": [
       "<div>\n",
       "<style scoped>\n",
       "    .dataframe tbody tr th:only-of-type {\n",
       "        vertical-align: middle;\n",
       "    }\n",
       "\n",
       "    .dataframe tbody tr th {\n",
       "        vertical-align: top;\n",
       "    }\n",
       "\n",
       "    .dataframe thead th {\n",
       "        text-align: right;\n",
       "    }\n",
       "</style>\n",
       "<table border=\"1\" class=\"dataframe\">\n",
       "  <thead>\n",
       "    <tr style=\"text-align: right;\">\n",
       "      <th></th>\n",
       "      <th>manufactor</th>\n",
       "      <th>Year</th>\n",
       "      <th>model</th>\n",
       "      <th>Hand</th>\n",
       "      <th>Gear</th>\n",
       "      <th>capacity_Engine</th>\n",
       "      <th>Engine_type</th>\n",
       "      <th>Prev_ownership</th>\n",
       "      <th>Curr_ownership</th>\n",
       "      <th>Area</th>\n",
       "      <th>City</th>\n",
       "      <th>Price</th>\n",
       "      <th>Pic_num</th>\n",
       "      <th>Cre_date</th>\n",
       "      <th>Repub_date</th>\n",
       "      <th>Description</th>\n",
       "      <th>Color</th>\n",
       "      <th>Km</th>\n",
       "      <th>Test</th>\n",
       "      <th>Supply_score</th>\n",
       "    </tr>\n",
       "  </thead>\n",
       "  <tbody>\n",
       "    <tr>\n",
       "      <th>151</th>\n",
       "      <td>מיצובישי</td>\n",
       "      <td>2014</td>\n",
       "      <td>אטראז'</td>\n",
       "      <td>4</td>\n",
       "      <td>אוטומטית</td>\n",
       "      <td>80</td>\n",
       "      <td>בנזין</td>\n",
       "      <td>NaN</td>\n",
       "      <td>NaN</td>\n",
       "      <td>ראשל\"צ והסביבה</td>\n",
       "      <td>ראשון לציון</td>\n",
       "      <td>26000.0</td>\n",
       "      <td>0.0</td>\n",
       "      <td>29/10/2022</td>\n",
       "      <td>29/10/2022</td>\n",
       "      <td>['רכב שמור מטופל בזמן ניראה כמו חדש מפתח חכם ג...</td>\n",
       "      <td>NaN</td>\n",
       "      <td>NaN</td>\n",
       "      <td>NaN</td>\n",
       "      <td>NaN</td>\n",
       "    </tr>\n",
       "    <tr>\n",
       "      <th>388</th>\n",
       "      <td>מיצובישי</td>\n",
       "      <td>2015</td>\n",
       "      <td>אטראז'</td>\n",
       "      <td>2</td>\n",
       "      <td>אוטומטית</td>\n",
       "      <td>80</td>\n",
       "      <td>בנזין</td>\n",
       "      <td>NaN</td>\n",
       "      <td>NaN</td>\n",
       "      <td>יישובי השומרון</td>\n",
       "      <td>עץ אפרים</td>\n",
       "      <td>26000.0</td>\n",
       "      <td>1.0</td>\n",
       "      <td>27/10/2022</td>\n",
       "      <td>27/10/2022</td>\n",
       "      <td>['רכב במצב מעולה טסט לשנה.יד 1 ליסינג יד 2 פרט...</td>\n",
       "      <td>NaN</td>\n",
       "      <td>NaN</td>\n",
       "      <td>NaN</td>\n",
       "      <td>NaN</td>\n",
       "    </tr>\n",
       "    <tr>\n",
       "      <th>729</th>\n",
       "      <td>רנו</td>\n",
       "      <td>2012</td>\n",
       "      <td>פלואנס חשמלי</td>\n",
       "      <td>2</td>\n",
       "      <td>אוטומטית</td>\n",
       "      <td>90</td>\n",
       "      <td>חשמלי</td>\n",
       "      <td>NaN</td>\n",
       "      <td>NaN</td>\n",
       "      <td>בית שמש והסביבה</td>\n",
       "      <td>בית שמש</td>\n",
       "      <td>27000.0</td>\n",
       "      <td>0.0</td>\n",
       "      <td>20/09/2022</td>\n",
       "      <td>20/09/2022</td>\n",
       "      <td>['רכב חשמלי 100%\\r\\nשקט אמין נוסע 80 ק\" ללא דל...</td>\n",
       "      <td>NaN</td>\n",
       "      <td>42300</td>\n",
       "      <td>NaN</td>\n",
       "      <td>NaN</td>\n",
       "    </tr>\n",
       "    <tr>\n",
       "      <th>773</th>\n",
       "      <td>מיצובישי</td>\n",
       "      <td>2019</td>\n",
       "      <td>אטראז'</td>\n",
       "      <td>1</td>\n",
       "      <td>אוטומטית</td>\n",
       "      <td>80</td>\n",
       "      <td>בנזין</td>\n",
       "      <td>NaN</td>\n",
       "      <td>NaN</td>\n",
       "      <td>אילת והערבה</td>\n",
       "      <td>אילת</td>\n",
       "      <td>60000.0</td>\n",
       "      <td>1.0</td>\n",
       "      <td>23/10/2022</td>\n",
       "      <td>23/10/2022</td>\n",
       "      <td>['הרחב במצב טוב ללא תעונות במצב טוב שמור לחלוט...</td>\n",
       "      <td>NaN</td>\n",
       "      <td>115000</td>\n",
       "      <td>NaN</td>\n",
       "      <td>3.0</td>\n",
       "    </tr>\n",
       "    <tr>\n",
       "      <th>872</th>\n",
       "      <td>קיה</td>\n",
       "      <td>2013</td>\n",
       "      <td>פיקנטו</td>\n",
       "      <td>3</td>\n",
       "      <td>אוטומטית</td>\n",
       "      <td>13</td>\n",
       "      <td>בנזין</td>\n",
       "      <td>NaN</td>\n",
       "      <td>NaN</td>\n",
       "      <td>חיפה וחוף הכרמל</td>\n",
       "      <td>נשר</td>\n",
       "      <td>36000.0</td>\n",
       "      <td>1.0</td>\n",
       "      <td>30/09/2022</td>\n",
       "      <td>30/09/2022</td>\n",
       "      <td>['שמור ונקי גמישה לרציניים בלבד טסט עד פבואר &amp;...</td>\n",
       "      <td>NaN</td>\n",
       "      <td>122100</td>\n",
       "      <td>NaN</td>\n",
       "      <td>11.0</td>\n",
       "    </tr>\n",
       "    <tr>\n",
       "      <th>1059</th>\n",
       "      <td>סקודה</td>\n",
       "      <td>2019</td>\n",
       "      <td>פאביה</td>\n",
       "      <td>1</td>\n",
       "      <td>אוטומטית</td>\n",
       "      <td>110</td>\n",
       "      <td>בנזין</td>\n",
       "      <td>NaN</td>\n",
       "      <td>NaN</td>\n",
       "      <td>חיפה וחוף הכרמל</td>\n",
       "      <td>חיפה</td>\n",
       "      <td>80000.0</td>\n",
       "      <td>1.0</td>\n",
       "      <td>44857</td>\n",
       "      <td>44857</td>\n",
       "      <td>['רכב יד ראשונה נרכש מהחברה, במצב שמור מאוד כמ...</td>\n",
       "      <td>NaN</td>\n",
       "      <td>36000</td>\n",
       "      <td>NaN</td>\n",
       "      <td>NaN</td>\n",
       "    </tr>\n",
       "    <tr>\n",
       "      <th>1105</th>\n",
       "      <td>מאזדה</td>\n",
       "      <td>2009</td>\n",
       "      <td>3</td>\n",
       "      <td>3</td>\n",
       "      <td>אוטומטית</td>\n",
       "      <td>105</td>\n",
       "      <td>בנזין</td>\n",
       "      <td>NaN</td>\n",
       "      <td>NaN</td>\n",
       "      <td>פתח תקוה והסביבה</td>\n",
       "      <td>פתח תקווה</td>\n",
       "      <td>25000.0</td>\n",
       "      <td>0.0</td>\n",
       "      <td>12/08/2022</td>\n",
       "      <td>12/08/2022</td>\n",
       "      <td>['מאזדה 3 \\r יד 03 \\r 220000 קילומטר \\r מודל 2...</td>\n",
       "      <td>NaN</td>\n",
       "      <td>220000</td>\n",
       "      <td>NaN</td>\n",
       "      <td>NaN</td>\n",
       "    </tr>\n",
       "    <tr>\n",
       "      <th>1456</th>\n",
       "      <td>סקודה</td>\n",
       "      <td>2016</td>\n",
       "      <td>אוקטביה</td>\n",
       "      <td>1</td>\n",
       "      <td>אוטומטית</td>\n",
       "      <td>150</td>\n",
       "      <td>בנזין</td>\n",
       "      <td>NaN</td>\n",
       "      <td>NaN</td>\n",
       "      <td>עמק יזרעאל</td>\n",
       "      <td>עפולה</td>\n",
       "      <td>70000.0</td>\n",
       "      <td>1.0</td>\n",
       "      <td>04/06/2022</td>\n",
       "      <td>04/06/2022</td>\n",
       "      <td>['יד ראשונה מסוכנות מורשה. הרכב נקי בלי תאונות...</td>\n",
       "      <td>NaN</td>\n",
       "      <td>140,000</td>\n",
       "      <td>NaN</td>\n",
       "      <td>NaN</td>\n",
       "    </tr>\n",
       "  </tbody>\n",
       "</table>\n",
       "</div>"
      ],
      "text/plain": [
       "     manufactor  Year         model  Hand      Gear capacity_Engine  \\\n",
       "151    מיצובישי  2014        אטראז'     4  אוטומטית              80   \n",
       "388    מיצובישי  2015        אטראז'     2  אוטומטית              80   \n",
       "729         רנו  2012  פלואנס חשמלי     2  אוטומטית              90   \n",
       "773    מיצובישי  2019        אטראז'     1  אוטומטית              80   \n",
       "872         קיה  2013        פיקנטו     3  אוטומטית              13   \n",
       "1059      סקודה  2019         פאביה     1  אוטומטית             110   \n",
       "1105      מאזדה  2009             3     3  אוטומטית             105   \n",
       "1456      סקודה  2016       אוקטביה     1  אוטומטית             150   \n",
       "\n",
       "     Engine_type Prev_ownership Curr_ownership              Area         City  \\\n",
       "151        בנזין            NaN            NaN    ראשל\"צ והסביבה  ראשון לציון   \n",
       "388        בנזין            NaN            NaN    יישובי השומרון     עץ אפרים   \n",
       "729        חשמלי            NaN            NaN   בית שמש והסביבה      בית שמש   \n",
       "773        בנזין            NaN            NaN       אילת והערבה         אילת   \n",
       "872        בנזין            NaN            NaN   חיפה וחוף הכרמל          נשר   \n",
       "1059       בנזין            NaN            NaN   חיפה וחוף הכרמל         חיפה   \n",
       "1105       בנזין            NaN            NaN  פתח תקוה והסביבה    פתח תקווה   \n",
       "1456       בנזין            NaN            NaN        עמק יזרעאל        עפולה   \n",
       "\n",
       "        Price  Pic_num    Cre_date  Repub_date  \\\n",
       "151   26000.0      0.0  29/10/2022  29/10/2022   \n",
       "388   26000.0      1.0  27/10/2022  27/10/2022   \n",
       "729   27000.0      0.0  20/09/2022  20/09/2022   \n",
       "773   60000.0      1.0  23/10/2022  23/10/2022   \n",
       "872   36000.0      1.0  30/09/2022  30/09/2022   \n",
       "1059  80000.0      1.0       44857       44857   \n",
       "1105  25000.0      0.0  12/08/2022  12/08/2022   \n",
       "1456  70000.0      1.0  04/06/2022  04/06/2022   \n",
       "\n",
       "                                            Description Color       Km Test  \\\n",
       "151   ['רכב שמור מטופל בזמן ניראה כמו חדש מפתח חכם ג...   NaN      NaN  NaN   \n",
       "388   ['רכב במצב מעולה טסט לשנה.יד 1 ליסינג יד 2 פרט...   NaN      NaN  NaN   \n",
       "729   ['רכב חשמלי 100%\\r\\nשקט אמין נוסע 80 ק\" ללא דל...   NaN    42300  NaN   \n",
       "773   ['הרחב במצב טוב ללא תעונות במצב טוב שמור לחלוט...   NaN   115000  NaN   \n",
       "872   ['שמור ונקי גמישה לרציניים בלבד טסט עד פבואר &...   NaN   122100  NaN   \n",
       "1059  ['רכב יד ראשונה נרכש מהחברה, במצב שמור מאוד כמ...   NaN    36000  NaN   \n",
       "1105  ['מאזדה 3 \\r יד 03 \\r 220000 קילומטר \\r מודל 2...   NaN   220000  NaN   \n",
       "1456  ['יד ראשונה מסוכנות מורשה. הרכב נקי בלי תאונות...   NaN  140,000  NaN   \n",
       "\n",
       "      Supply_score  \n",
       "151            NaN  \n",
       "388            NaN  \n",
       "729            NaN  \n",
       "773            3.0  \n",
       "872           11.0  \n",
       "1059           NaN  \n",
       "1105           NaN  \n",
       "1456           NaN  "
      ]
     },
     "execution_count": 105,
     "metadata": {},
     "output_type": "execute_result"
    }
   ],
   "source": [
    "capacity_Engine_to_find = ['90', '105', '150', '110', '13', '80', 90, 105, 150, 110, 13, 80]\n",
    "filtered_rows = df[df['capacity_Engine'].isin(capacity_Engine_to_find)]\n",
    "filtered_rows"
   ]
  },
  {
   "cell_type": "markdown",
   "id": "cac1586c-4cee-457f-af1f-ed916ce3803f",
   "metadata": {},
   "source": [
    "### נרצה להפוך אותם ל-nan כדי שנוכל להפעיל עליהם את הפונקציה למילוי ערכים "
   ]
  },
  {
   "cell_type": "code",
   "execution_count": 128,
   "id": "4a87181d-2d9b-4b50-b974-e2fe43a36f7f",
   "metadata": {},
   "outputs": [
    {
     "data": {
      "text/plain": [
       "manufactor            0\n",
       "Year                  0\n",
       "model                 0\n",
       "Hand                  0\n",
       "Gear                  1\n",
       "capacity_Engine      15\n",
       "Engine_type           2\n",
       "Prev_ownership      729\n",
       "Curr_ownership      728\n",
       "Area                149\n",
       "City                  0\n",
       "Price                 0\n",
       "Pic_num              24\n",
       "Cre_date              0\n",
       "Repub_date            0\n",
       "Description           0\n",
       "Color               770\n",
       "Km                   89\n",
       "Test               1368\n",
       "Supply_score       1061\n",
       "dtype: int64"
      ]
     },
     "execution_count": 128,
     "metadata": {},
     "output_type": "execute_result"
    }
   ],
   "source": [
    "df['capacity_Engine'] = df['capacity_Engine'].replace(capacity_Engine_to_find, np.nan)\n",
    "\n",
    "missing_values = count_missing_values(df)\n",
    "missing_values"
   ]
  },
  {
   "cell_type": "markdown",
   "id": "a15b1db5-8d36-43ac-a4ea-03fe90e1a844",
   "metadata": {},
   "source": [
    "### פונקציה לטיפול בערכים חסרים של העמודות נפח מנוע, גיר, סוג מנוע"
   ]
  },
  {
   "cell_type": "code",
   "execution_count": 131,
   "id": "8cb5aeef-0ae8-4d45-a3a9-bed609dce383",
   "metadata": {},
   "outputs": [],
   "source": [
    "def fill_missing_values(row, reference_data, columns_to_fill, reference_columns):\n",
    "    \n",
    "    for col in columns_to_fill:\n",
    "        if pd.isnull(row[col]):\n",
    "            # מציאת ערך לא חסר מרכבים דומים\n",
    "            similar_rows = reference_data[\n",
    "                (reference_data[reference_columns[0]] == row[reference_columns[0]]) &\n",
    "                (reference_data[reference_columns[1]] == row[reference_columns[1]])\n",
    "            ]\n",
    "            if not similar_rows.empty:\n",
    "                non_na_values = similar_rows[col].dropna()\n",
    "                if not non_na_values.empty:\n",
    "                    row[col] = non_na_values.mode().values[0]\n",
    "    return row"
   ]
  },
  {
   "cell_type": "code",
   "execution_count": 133,
   "id": "62d98f25-9dba-4b8e-981f-b71bd490a583",
   "metadata": {},
   "outputs": [],
   "source": [
    "# עמודות למילוי\n",
    "columns_to_fill = ['Gear', 'Engine_type', 'capacity_Engine']\n",
    "# עמודות התייחסות לרכבים דומים\n",
    "reference_columns = ['manufactor', 'model']\n",
    "\n",
    "# מילוי הערכים החסרים בעמודות Gear, Engine_type, Engine_capacity\n",
    "df = df.apply(lambda row: fill_missing_values(row, df, columns_to_fill, reference_columns), axis=1)"
   ]
  },
  {
   "cell_type": "code",
   "execution_count": 135,
   "id": "5cb38b7c-2e83-4524-add8-f08d4eaf5299",
   "metadata": {},
   "outputs": [
    {
     "data": {
      "text/plain": [
       "manufactor            0\n",
       "Year                  0\n",
       "model                 0\n",
       "Hand                  0\n",
       "Gear                  0\n",
       "capacity_Engine      10\n",
       "Engine_type           2\n",
       "Prev_ownership      729\n",
       "Curr_ownership      728\n",
       "Area                149\n",
       "City                  0\n",
       "Price                 0\n",
       "Pic_num              24\n",
       "Cre_date              0\n",
       "Repub_date            0\n",
       "Description           0\n",
       "Color               770\n",
       "Km                   89\n",
       "Test               1368\n",
       "Supply_score       1061\n",
       "dtype: int64"
      ]
     },
     "execution_count": 135,
     "metadata": {},
     "output_type": "execute_result"
    }
   ],
   "source": [
    "missing_values = count_missing_values(df)\n",
    "missing_values"
   ]
  },
  {
   "cell_type": "markdown",
   "id": "1ee20410-1316-4f17-a71e-cabc3b7a63ea",
   "metadata": {},
   "source": [
    "### משימה- לטפל ידנית בעמודת נפח מנוע"
   ]
  },
  {
   "cell_type": "markdown",
   "id": "0b876dc7-aeff-410c-99e3-ea2e42433110",
   "metadata": {},
   "source": [
    "### טיפול ידני בערכים חסרים של עמודת סוג מנוע"
   ]
  },
  {
   "cell_type": "code",
   "execution_count": 139,
   "id": "bb24c924-40f3-41d0-a0fe-18ad466fc864",
   "metadata": {},
   "outputs": [
    {
     "data": {
      "text/html": [
       "<div>\n",
       "<style scoped>\n",
       "    .dataframe tbody tr th:only-of-type {\n",
       "        vertical-align: middle;\n",
       "    }\n",
       "\n",
       "    .dataframe tbody tr th {\n",
       "        vertical-align: top;\n",
       "    }\n",
       "\n",
       "    .dataframe thead th {\n",
       "        text-align: right;\n",
       "    }\n",
       "</style>\n",
       "<table border=\"1\" class=\"dataframe\">\n",
       "  <thead>\n",
       "    <tr style=\"text-align: right;\">\n",
       "      <th></th>\n",
       "      <th>manufactor</th>\n",
       "      <th>Year</th>\n",
       "      <th>model</th>\n",
       "      <th>Hand</th>\n",
       "      <th>Gear</th>\n",
       "      <th>capacity_Engine</th>\n",
       "      <th>Engine_type</th>\n",
       "      <th>Prev_ownership</th>\n",
       "      <th>Curr_ownership</th>\n",
       "      <th>Area</th>\n",
       "      <th>City</th>\n",
       "      <th>Price</th>\n",
       "      <th>Pic_num</th>\n",
       "      <th>Cre_date</th>\n",
       "      <th>Repub_date</th>\n",
       "      <th>Description</th>\n",
       "      <th>Color</th>\n",
       "      <th>Km</th>\n",
       "      <th>Test</th>\n",
       "      <th>Supply_score</th>\n",
       "    </tr>\n",
       "  </thead>\n",
       "  <tbody>\n",
       "    <tr>\n",
       "      <th>281</th>\n",
       "      <td>רנו</td>\n",
       "      <td>2014</td>\n",
       "      <td>מגאן אסטייט / גראנד טור</td>\n",
       "      <td>2</td>\n",
       "      <td>אוטומטית</td>\n",
       "      <td>1500</td>\n",
       "      <td>NaN</td>\n",
       "      <td>NaN</td>\n",
       "      <td>NaN</td>\n",
       "      <td>רעננה - כפר סבא</td>\n",
       "      <td>רעננה</td>\n",
       "      <td>33000.0</td>\n",
       "      <td>1.0</td>\n",
       "      <td>22/09/2022</td>\n",
       "      <td>22/09/2022</td>\n",
       "      <td>['רכב במצב מעולה. מטופל בחברה. עשה טיימינג. חס...</td>\n",
       "      <td>NaN</td>\n",
       "      <td>180000</td>\n",
       "      <td>NaN</td>\n",
       "      <td>NaN</td>\n",
       "    </tr>\n",
       "    <tr>\n",
       "      <th>1251</th>\n",
       "      <td>רנו</td>\n",
       "      <td>2014</td>\n",
       "      <td>25</td>\n",
       "      <td>2</td>\n",
       "      <td>אוטומטית</td>\n",
       "      <td>1461</td>\n",
       "      <td>NaN</td>\n",
       "      <td>NaN</td>\n",
       "      <td>NaN</td>\n",
       "      <td>תל אביב</td>\n",
       "      <td>תל אביב יפו</td>\n",
       "      <td>28000.0</td>\n",
       "      <td>0.0</td>\n",
       "      <td>07/01/2022</td>\n",
       "      <td>07/01/2022</td>\n",
       "      <td>[nan]</td>\n",
       "      <td>NaN</td>\n",
       "      <td>NaN</td>\n",
       "      <td>NaN</td>\n",
       "      <td>NaN</td>\n",
       "    </tr>\n",
       "  </tbody>\n",
       "</table>\n",
       "</div>"
      ],
      "text/plain": [
       "     manufactor  Year                    model  Hand      Gear  \\\n",
       "281         רנו  2014  מגאן אסטייט / גראנד טור     2  אוטומטית   \n",
       "1251        רנו  2014                       25     2  אוטומטית   \n",
       "\n",
       "     capacity_Engine Engine_type Prev_ownership Curr_ownership  \\\n",
       "281             1500         NaN            NaN            NaN   \n",
       "1251            1461         NaN            NaN            NaN   \n",
       "\n",
       "                 Area         City    Price  Pic_num    Cre_date  Repub_date  \\\n",
       "281   רעננה - כפר סבא        רעננה  33000.0      1.0  22/09/2022  22/09/2022   \n",
       "1251          תל אביב  תל אביב יפו  28000.0      0.0  07/01/2022  07/01/2022   \n",
       "\n",
       "                                            Description Color      Km Test  \\\n",
       "281   ['רכב במצב מעולה. מטופל בחברה. עשה טיימינג. חס...   NaN  180000  NaN   \n",
       "1251                                              [nan]   NaN     NaN  NaN   \n",
       "\n",
       "      Supply_score  \n",
       "281            NaN  \n",
       "1251           NaN  "
      ]
     },
     "execution_count": 139,
     "metadata": {},
     "output_type": "execute_result"
    }
   ],
   "source": [
    "df[df['Engine_type'].isna()]"
   ]
  },
  {
   "cell_type": "markdown",
   "id": "ea1d2de0-bb0b-41f8-aab1-e8400154a33b",
   "metadata": {},
   "source": [
    "### מכיוון שיש לנו רק שני שורות ביצענו מחקר באינטרנט וגילנו מה הטייפ מנוע שלהם"
   ]
  },
  {
   "cell_type": "code",
   "execution_count": null,
   "id": "0498f193-f8b4-4325-ab6b-b508c67e9946",
   "metadata": {},
   "outputs": [],
   "source": [
    "df['Engine_type'] = df['Engine_type'].replace(np.nan, 'דיזל')"
   ]
  },
  {
   "cell_type": "code",
   "execution_count": 148,
   "id": "11bfe73c-d53f-425e-ac61-f62afe9e7315",
   "metadata": {},
   "outputs": [
    {
     "data": {
      "text/plain": [
       "manufactor            0\n",
       "Year                  0\n",
       "model                 0\n",
       "Hand                  0\n",
       "Gear                  0\n",
       "capacity_Engine      10\n",
       "Engine_type           0\n",
       "Prev_ownership      729\n",
       "Curr_ownership      728\n",
       "Area                149\n",
       "City                  0\n",
       "Price                 0\n",
       "Pic_num              24\n",
       "Cre_date              0\n",
       "Repub_date            0\n",
       "Description           0\n",
       "Color               770\n",
       "Km                   89\n",
       "Test               1368\n",
       "Supply_score       1061\n",
       "dtype: int64"
      ]
     },
     "execution_count": 148,
     "metadata": {},
     "output_type": "execute_result"
    }
   ],
   "source": []
  },
  {
   "cell_type": "code",
   "execution_count": null,
   "id": "e05c2407-f69b-4229-8a42-567b2fa5a609",
   "metadata": {},
   "outputs": [],
   "source": []
  }
 ],
 "metadata": {
  "kernelspec": {
   "display_name": "Python 3 (ipykernel)",
   "language": "python",
   "name": "python3"
  },
  "language_info": {
   "codemirror_mode": {
    "name": "ipython",
    "version": 3
   },
   "file_extension": ".py",
   "mimetype": "text/x-python",
   "name": "python",
   "nbconvert_exporter": "python",
   "pygments_lexer": "ipython3",
   "version": "3.11.7"
  }
 },
 "nbformat": 4,
 "nbformat_minor": 5
}
