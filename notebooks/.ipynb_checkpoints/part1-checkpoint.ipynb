{
 "cells": [
  {
   "cell_type": "markdown",
   "id": "e7c182b6-2bab-40c9-b61c-b006d8e289bd",
   "metadata": {},
   "source": [
    "# Data Mining and Price Forecasting in the Automobile Market."
   ]
  },
  {
   "cell_type": "markdown",
   "id": "aaf51900-fe01-49f8-a02c-0b3133f75263",
   "metadata": {},
   "source": [
    "## imports"
   ]
  },
  {
   "cell_type": "code",
   "execution_count": null,
   "id": "b0bf23eb-73d1-4aac-babd-01a484d2877e",
   "metadata": {},
   "outputs": [],
   "source": [
    "import requests\n",
    "from bs4 import BeautifulSoup\n",
    "import pandas as pd \n",
    "import numpy as np\n",
    "import matplotlib.pyplot as plt\n",
    "import re\n",
    "from datetime import datetime"
   ]
  },
  {
   "cell_type": "markdown",
   "id": "26a57982-c302-413c-81d2-815799753f3d",
   "metadata": {},
   "source": [
    "## Web Scraping Car Data from ad.co.il"
   ]
  },
  {
   "cell_type": "code",
   "execution_count": null,
   "id": "8fbea83d-a4c9-4abb-b7fe-2818ca2b39be",
   "metadata": {},
   "outputs": [],
   "source": [
    "# coding: utf-8\n",
    "\n",
    "stop_con = True\n",
    "all_ids = []\n",
    "all_pics = []\n",
    "page_num = 1\n",
    "\n",
    "while stop_con:\n",
    "    url = \"https://www.ad.co.il/car?sp261=13911&pageindex=\" + str(page_num)\n",
    "    html = requests.get(url)\n",
    "    soup = BeautifulSoup(html.content, 'html.parser')\n",
    "\n",
    "    # Extract data-id and data-images attributes\n",
    "    data_ids = []\n",
    "    data_images = []\n",
    "\n",
    "    for card_block in soup.find_all(class_='card-block'):\n",
    "        # Check if the 'data-id' and 'data-images' attributes exist\n",
    "        if 'data-id' in card_block.attrs and 'data-images' in card_block.attrs:\n",
    "            data_ids.append(card_block['data-id'])\n",
    "            data_images.append(card_block['data-images'])\n",
    "            \n",
    "    if len(data_ids) == 0:\n",
    "        stop_con = False\n",
    "    else:\n",
    "        page_num += 1\n",
    "        all_ids.extend(data_ids)\n",
    "        all_pics.extend(data_images)\n",
    "\n",
    "# Print lengths of the final lists\n",
    "print(len(all_ids))\n",
    "print(len(all_pics))\n",
    "\n",
    "headers = {'User-Agent': 'Mozilla/5.0 (Windows NT 10.0) AppleWebKit/537.36 (KHTML, like Gecko) Chrome/113.0.0.0 Safari/537.36'} \n",
    "\n",
    "response = requests.get(url, headers= headers)\n",
    "if response.status_code == 200:\n",
    "    print(\"Success\")\n",
    "else:\n",
    "    print(\"Failure\")\n",
    "\n"
   ]
  },
  {
   "cell_type": "markdown",
   "id": "53697a94-5e5d-4e76-84f4-2a881c421b66",
   "metadata": {},
   "source": [
    "## Function to Extract Car Details from Web Pages"
   ]
  },
  {
   "cell_type": "code",
   "execution_count": null,
   "id": "4b6ca36d-86c7-4bf2-94f0-295b1ce333d2",
   "metadata": {},
   "outputs": [],
   "source": [
    "def get_all_details(base_url: str, posts):\n",
    "    cars = []\n",
    "\n",
    "    for car in posts:\n",
    "        json = dict()\n",
    "        url = base_url + car\n",
    "\n",
    "        response = requests.get(url)\n",
    "        resulte_page = BeautifulSoup(response.content, 'html.parser')\n",
    "        \n",
    "        try:\n",
    "            dates = resulte_page.find('div', class_='d-flex flex-row align-items-center justify-content-center flex-wrap').get_text().split('\\n')\n",
    "        except AttributeError:\n",
    "            dates = []\n",
    "\n",
    "        try:\n",
    "            price_model = resulte_page.find('div', class_='d-flex justify-content-between').get_text().split(' ')\n",
    "        except AttributeError:\n",
    "            price_model = []\n",
    "\n",
    "        try:\n",
    "            description = resulte_page.find('p', class_='text-word-break').get_text()\n",
    "        except AttributeError:\n",
    "            description = ''\n",
    "\n",
    "        try:\n",
    "            car_detail = resulte_page.find_all('td')\n",
    "        except AttributeError:\n",
    "            car_detail = []\n",
    "\n",
    "        car_dtail = str(car_detail).split('\\n')\n",
    "        \n",
    "        # Clearing unnecessary tags and characters from the list\n",
    "        cleaned_description = description.replace('\\r', '').replace('\\n', '').replace('\\'', '')\n",
    "        cleaned_list = [re.sub(r'<[^>]+>', '', item).strip() for item in car_dtail]\n",
    "        \n",
    "        # Removing characters and strings that are not required\n",
    "        cleaned_list = [re.sub(r'[\\r\\n\\t]', '', item) for item in cleaned_list if item and not re.match(r'^[\\.,/\"\\s]+$', item)]\n",
    "        cleaned_dates = [item for item in dates if item.strip()]\n",
    "        \n",
    "        # Create dictionary \n",
    "        json = {cleaned_list[i]: cleaned_list[i + 1] for i in range(1, len(cleaned_list) - 1, 2)}\n",
    "        json['Description'] = cleaned_description\n",
    "        json['manufactor'] = 'פורד' \n",
    "        \n",
    "        if len(price_model) > 1:\n",
    "            json['model'] = price_model[1].split('\\n')[0] if '\\n' in price_model[1] else price_model[1]\n",
    "            json['Price'] = price_model[1].split('\\n')[1] if '\\n' in price_model[1] else ''\n",
    "\n",
    "        for item in cleaned_dates:\n",
    "            if ':' in item:\n",
    "                key, value = item.split(':')\n",
    "                key = key.strip()\n",
    "                value = value.strip()\n",
    "                json[key] = value\n",
    "\n",
    "        # Changing the key names in the dictionary\n",
    "        new_keys = {\n",
    "            'שנה': 'Year',\n",
    "            'יד': 'Hand',\n",
    "            'ת. הילוכים': 'Gear',\n",
    "            'נפח': 'capacity_Engine',\n",
    "            'סוג מנוע': 'Engine_type',\n",
    "            'בעלות קודמת': 'Prev_ownership',\n",
    "            'בעלות נוכחית': 'Curr_ownership',\n",
    "            'אזור': 'Area',\n",
    "            'עיר': 'City',\n",
    "            'תאריך יצירה': 'Cre_date',\n",
    "            'תאריך הקפצה אחרון': 'Repub_date',\n",
    "            'צבע': 'Color',\n",
    "            'ק\"מ': 'Km',\n",
    "            'טסט עד': 'Test'\n",
    "        }\n",
    "        \n",
    "        for old_key, new_key in new_keys.items():\n",
    "            if old_key in json:\n",
    "                json[new_key] = json.pop(old_key)\n",
    "        cars.append(json)\n",
    "    \n",
    "    return cars"
   ]
  },
  {
   "cell_type": "markdown",
   "id": "a0feb6f0-dda4-4580-8db9-af46ad1bb91a",
   "metadata": {},
   "source": [
    "## call to get_all_details function"
   ]
  },
  {
   "cell_type": "code",
   "execution_count": null,
   "id": "67a1bbc6-c9aa-4c7a-8e7b-17df2cf1fc29",
   "metadata": {},
   "outputs": [],
   "source": [
    "Posts = get_all_details('https://www.ad.co.il/ad/', all_ids)"
   ]
  },
  {
   "cell_type": "markdown",
   "id": "cd5a7e3d-b2e8-4175-8588-ddd99db017db",
   "metadata": {},
   "source": [
    "## Rearranging and Modifying Columns in the DataFrame\n"
   ]
  },
  {
   "cell_type": "code",
   "execution_count": null,
   "id": "b4e80be9-a62c-4bbe-ab83-2b701b52e757",
   "metadata": {},
   "outputs": [],
   "source": [
    "Posts_df = pd.DataFrame(Posts)\n",
    "Posts_df.insert(loc=20, column='Pic_num', value=all_pics)\n",
    "\n",
    "Posts_df = Posts_df.iloc[:, 4:23]\n",
    "new_order_col = ['manufactor', 'Year', 'model', 'Hand', 'Gear','capacity_Engine', 'Engine_type', 'Prev_ownership', 'Curr_ownership', 'Area', 'City', 'Price', 'Pic_num', 'Cre_date', 'Repub_date', 'Description', 'Color', 'Km', 'Test']\n",
    "Posts_df = Posts_df.reindex(columns= new_order_col)\n",
    "\n",
    "Posts_df.head()\n",
    "\n"
   ]
  },
  {
   "cell_type": "markdown",
   "id": "fcc598d7-7286-452c-a3c0-73578a0a436e",
   "metadata": {},
   "source": [
    "## Data Cleaning"
   ]
  },
  {
   "cell_type": "code",
   "execution_count": null,
   "id": "931cf47a-486e-4939-b3e5-4430e4839bf2",
   "metadata": {},
   "outputs": [],
   "source": [
    "Posts_df['capacity_Engine'] = Posts_df['capacity_Engine'].str.replace(',', '')\n",
    "Posts_df['Km'] = Posts_df['Km'].str.replace(',', '')\n",
    "Posts_df['Price'] = Posts_df['Price'].str.replace(',', '')\n",
    "Posts_df['Price'] = Posts_df['Price'].replace('', np.nan)\n"
   ]
  },
  {
   "cell_type": "markdown",
   "id": "ef987d31-c914-4570-8c90-524e47b205fc",
   "metadata": {},
   "source": [
    "## Calculating Days from Today to End of Month and Dropping Intermediate Column\n"
   ]
  },
  {
   "cell_type": "code",
   "execution_count": null,
   "id": "c33b6c3f-bb68-4d89-afee-8bc126ebfc4a",
   "metadata": {},
   "outputs": [],
   "source": [
    "Posts_df['Test'] = pd.to_datetime(Posts_df['Test'], format='%m/%Y')\n",
    "Posts_df['Last Day of Month'] = Posts_df['Test'] + pd.offsets.MonthEnd(0)\n",
    "\n",
    "today = pd.to_datetime(datetime.today().date())\n",
    "Posts_df['Test'] = (Posts_df['Last Day of Month'] - today).dt.days\n",
    "\n",
    "Posts_df = Posts_df.drop(['Last Day of Month'], axis=1)"
   ]
  },
  {
   "cell_type": "markdown",
   "id": "484d4a4b-c847-4b47-a3b6-bd38c8f200bb",
   "metadata": {},
   "source": [
    "## Converting Data Types in the DataFrame\n"
   ]
  },
  {
   "cell_type": "code",
   "execution_count": null,
   "id": "cb250296-8835-43b4-bb73-0621a5c9635a",
   "metadata": {},
   "outputs": [],
   "source": [
    "Posts_df = Posts_df.astype({\n",
    "    'manufactor': str, \n",
    "    'Year': int, \n",
    "    'model': str, \n",
    "    'Hand': int, \n",
    "    'Gear': 'category',\n",
    "    'capacity_Engine': int, \n",
    "    'Engine_type': 'category', \n",
    "    'Prev_ownership': 'category',\n",
    "    'Curr_ownership': 'category', \n",
    "    'Area': str, \n",
    "    'City': str, \n",
    "    'Price': float, \n",
    "    'Pic_num': int, \n",
    "    'Description': str, \n",
    "    'Color': str, \n",
    "    'Km': 'Int64',\n",
    "    'Test': 'Int64'\n",
    " })\n",
    "\n",
    "Posts_df.dtypes"
   ]
  },
  {
   "cell_type": "markdown",
   "id": "d8ce5fad-f1cf-4471-976f-d682e292369e",
   "metadata": {},
   "source": [
    "## import to CSV file"
   ]
  },
  {
   "cell_type": "code",
   "execution_count": null,
   "id": "f184ebcd-4774-4e1e-8eca-66eaead0396d",
   "metadata": {},
   "outputs": [],
   "source": [
    "Posts_df.to_csv('ford_1980_2024.csv', index=False, encoding='utf-8-sig')"
   ]
  }
 ],
 "metadata": {
  "kernelspec": {
   "display_name": "Python 3 (ipykernel)",
   "language": "python",
   "name": "python3"
  },
  "language_info": {
   "codemirror_mode": {
    "name": "ipython",
    "version": 3
   },
   "file_extension": ".py",
   "mimetype": "text/x-python",
   "name": "python",
   "nbconvert_exporter": "python",
   "pygments_lexer": "ipython3",
   "version": "3.11.7"
  }
 },
 "nbformat": 4,
 "nbformat_minor": 5
}
